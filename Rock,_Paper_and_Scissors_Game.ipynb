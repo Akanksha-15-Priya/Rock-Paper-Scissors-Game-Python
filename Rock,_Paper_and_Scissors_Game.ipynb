{
  "nbformat": 4,
  "nbformat_minor": 0,
  "metadata": {
    "colab": {
      "name": "Rock, Paper and Scissors Game.ipynb",
      "provenance": [],
      "collapsed_sections": []
    },
    "kernelspec": {
      "name": "python3",
      "display_name": "Python 3"
    },
    "language_info": {
      "name": "python"
    }
  },
  "cells": [
    {
      "cell_type": "code",
      "metadata": {
        "colab": {
          "base_uri": "https://localhost:8080/"
        },
        "id": "h-tYweemuTjP",
        "outputId": "8c55928d-a6d7-4ced-fa18-4d166bde66d3"
      },
      "source": [
        "import random\n",
        "choices = [\"Rock\", \"Paper\", \"Scissors\"]\n",
        "player = False\n",
        "cpu_score = 0\n",
        "player_score = 0\n",
        "while True:\n",
        "    computer = random.choice(choices)\n",
        "    player = input(\"Rock, Paper or Scissors?\").capitalize()\n",
        "    # Conditions of Rock, Paper and Scissors\n",
        "    if player == computer:\n",
        "        print(\"Tie!\")\n",
        "    elif player == \"Rock\":\n",
        "        if computer == \"Paper\":\n",
        "            print(\"You lose!\", computer, \"covers\", player)\n",
        "            cpu_score+=1\n",
        "        else:\n",
        "            print(\"You win!\", player, \"smashes\", computer)\n",
        "            player_score+=1\n",
        "    elif player == \"Paper\":\n",
        "        if computer == \"Scissors\":\n",
        "            print(\"You lose!\", computer, \"cut\", player)\n",
        "            cpu_score+=1\n",
        "        else:\n",
        "            print(\"You win!\", player, \"covers\", computer)\n",
        "            player_score+=1\n",
        "    elif player == \"Scissors\":\n",
        "        if computer == \"Rock\":\n",
        "            print(\"You lose...\", computer, \"smashes\", player)\n",
        "            cpu_score+=1\n",
        "        else:\n",
        "            print(\"You win!\", player, \"cut\", computer)\n",
        "            player_score+=1\n",
        "    elif player=='End':\n",
        "        print(\"Final Scores:\")\n",
        "        print(f\"CPU:{cpu_score}\")\n",
        "        print(f\"Player:{player_score}\")\n",
        "        break"
      ],
      "execution_count": 7,
      "outputs": [
        {
          "output_type": "stream",
          "text": [
            "Rock, Paper or Scissors?rock\n",
            "Tie!\n",
            "Rock, Paper or Scissors?rock\n",
            "Tie!\n",
            "Rock, Paper or Scissors?paper\n",
            "Tie!\n",
            "Rock, Paper or Scissors?rock\n",
            "You win! Rock smashes Scissors\n",
            "Rock, Paper or Scissors?scissors\n",
            "You lose... Rock smashes Scissors\n",
            "Rock, Paper or Scissors?rock\n",
            "You lose! Paper covers Rock\n",
            "Rock, Paper or Scissors?paper\n",
            "You lose! Scissors cut Paper\n",
            "Rock, Paper or Scissors?paper\n",
            "You lose! Scissors cut Paper\n",
            "Rock, Paper or Scissors?paper\n",
            "You win! Paper covers Rock\n",
            "Rock, Paper or Scissors?rock\n",
            "You win! Rock smashes Scissors\n",
            "Rock, Paper or Scissors?end\n",
            "Final Scores:\n",
            "CPU:4\n",
            "Player:3\n"
          ],
          "name": "stdout"
        }
      ]
    }
  ]
}